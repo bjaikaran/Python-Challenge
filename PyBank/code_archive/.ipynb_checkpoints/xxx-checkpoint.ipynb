{
 "cells": [
  {
   "cell_type": "code",
   "execution_count": null,
   "metadata": {},
   "outputs": [],
   "source": [
    "import numpy as numpy\n",
    "import pandas as pd"
   ]
  },
  {
   "cell_type": "code",
   "execution_count": null,
   "metadata": {},
   "outputs": [],
   "source": []
  },
  {
   "cell_type": "code",
   "execution_count": null,
   "metadata": {},
   "outputs": [],
   "source": [
    "csv_a = input(\"Enter the full path of the first Budget Data file for your CSV: \")\n",
    "csv_path_a = str(csv_a)\n",
    "csv_path_a"
   ]
  },
  {
   "cell_type": "code",
   "execution_count": null,
   "metadata": {},
   "outputs": [],
   "source": [
    "csv_b = input(\"Enter the full path of the second Budget Data file for your CSV: \")\n",
    "\n",
    "csv_path_b = str(csv_b)\n",
    "csv_path_b"
   ]
  },
  {
   "cell_type": "code",
   "execution_count": null,
   "metadata": {},
   "outputs": [],
   "source": [
    "bf_a = pd.read_csv(csv_path_a, encoding=\"utf-8\")\n",
    "bf_a.head()"
   ]
  },
  {
   "cell_type": "code",
   "execution_count": null,
   "metadata": {},
   "outputs": [],
   "source": [
    "bf_b = pd.read_csv(csv_path_b, encoding=\"utf-8\")\n",
    "bf_b.head()\n",
    "\n",
    "merge_bd = pd.merge(bf_a, bf_b, on=\"Date\")\n",
    "merge_bd"
   ]
  }
 ],
 "metadata": {
  "kernelspec": {
   "display_name": "Python 3",
   "language": "python",
   "name": "python3"
  },
  "language_info": {
   "codemirror_mode": {
    "name": "ipython",
    "version": 3
   },
   "file_extension": ".py",
   "mimetype": "text/x-python",
   "name": "python",
   "nbconvert_exporter": "python",
   "pygments_lexer": "ipython3",
   "version": "3.6.4"
  }
 },
 "nbformat": 4,
 "nbformat_minor": 2
}
