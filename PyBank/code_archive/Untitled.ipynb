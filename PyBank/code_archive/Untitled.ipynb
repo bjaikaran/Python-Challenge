{
 "cells": [
  {
   "cell_type": "code",
   "execution_count": 1,
   "metadata": {},
   "outputs": [
    {
     "name": "stdout",
     "output_type": "stream",
     "text": [
      "Total Months: 41\n",
      "Total Revenue: $18,971,412\n",
      "Average Revenue Change: $462,717\n",
      "Greatest Increase in Revenue: Sep-15 (1195111)\n",
      "Greatest Decrease in Revenue: Aug-14 (-1172384)\n"
     ]
    }
   ],
   "source": [
    "import pandas as pd\n",
    "\n",
    "#csv = input(\"Enter the full path of the first Budget Data file for your CSV: \")\n",
    "#csv_path = str(csv)\n",
    "csv_path =\"resources/budget_data_a.csv\"\n",
    "wFile = str(csv_path[:-3]+\"txt\")\n",
    "\n",
    "bf = pd.read_csv(csv_path, encoding=\"utf-8\")\n",
    "\n",
    "bf[\"Date\"] = bf[\"Date\"].str.replace(\"20\",\"\")\n",
    "months = bf[\"Date\"].nunique()\n",
    "bd_trev = bf[\"Revenue\"].sum()\n",
    "avg_rev= int(bf[\"Revenue\"].mean())\n",
    "bd_maxrev = bf[\"Revenue\"].max()   \n",
    "max_rev=bf.loc[bf[\"Revenue\"] == bd_maxrev,:]\n",
    "mxdate=str(max_rev.iloc[0][\"Date\"])\n",
    "mxval=str(bd_maxrev)\n",
    "bd_minrev = bf[\"Revenue\"].min()\n",
    "min_rev=bf.loc[bf[\"Revenue\"] == bd_minrev,:]\n",
    "mndate=str(min_rev.iloc[0][\"Date\"])\n",
    "mnval=str(bd_minrev)\n",
    "f= open(wFile,\"w+\")\n",
    "print(\"Total Months: \"+'{:,}'.format(months))\n",
    "f.write(\"Total Months: \"+'{:,}'.format(months)+\"\\n\")\n",
    "print(\"Total Revenue: $\"+'{:,}'.format(bd_trev))\n",
    "f.write(\"Total Revenue: $\"+'{:,}'.format(bd_trev)+\"\\n\")\n",
    "print(\"Average Revenue Change: $\"+'{:,}'.format(avg_rev))\n",
    "f.write(\"Average Revenue Change: $\"+'{:,}'.format(avg_rev)+\"\\n\")\n",
    "print(\"Greatest Increase in Revenue: \"+mxdate+\" (\"+mxval+\")\")\n",
    "f.write(\"Greatest Increase in Revenue: \"+mxdate+\" (\"+mxval+\")\"+\"\\n\")\n",
    "print(\"Greatest Decrease in Revenue: \"+mndate+\" (\"+mnval+\")\")\n",
    "f.write(\"Greatest Decrease in Revenue: \"+mndate+\" (\"+mnval+\")\"+\"\\n\")\n",
    "f.close()\n"
   ]
  },
  {
   "cell_type": "code",
   "execution_count": null,
   "metadata": {},
   "outputs": [],
   "source": []
  }
 ],
 "metadata": {
  "kernelspec": {
   "display_name": "Python 3",
   "language": "python",
   "name": "python3"
  },
  "language_info": {
   "codemirror_mode": {
    "name": "ipython",
    "version": 3
   },
   "file_extension": ".py",
   "mimetype": "text/x-python",
   "name": "python",
   "nbconvert_exporter": "python",
   "pygments_lexer": "ipython3",
   "version": "3.6.4"
  }
 },
 "nbformat": 4,
 "nbformat_minor": 2
}
