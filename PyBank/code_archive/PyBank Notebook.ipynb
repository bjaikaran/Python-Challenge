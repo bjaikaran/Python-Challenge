{
 "cells": [
  {
   "cell_type": "code",
   "execution_count": 1,
   "metadata": {},
   "outputs": [],
   "source": [
    "import numpy as np\n",
    "import pandas as pd"
   ]
  },
  {
   "cell_type": "code",
   "execution_count": null,
   "metadata": {},
   "outputs": [],
   "source": [
    "csv = input(\"Enter the full path of the first Budget Data file for your CSV: \")\n",
    "csv_path = str(csv)\n",
    "csv_path"
   ]
  },
  {
   "cell_type": "code",
   "execution_count": null,
   "metadata": {},
   "outputs": [],
   "source": [
    "bf = pd.read_csv(csv_path, encoding=\"utf-8\")\n",
    "print(bf.dtypes)\n",
    "\n",
    "bf[\"Date\"] = bf[\"Date\"].str.replace(\"20\",\"\")\n",
    "bf.head()"
   ]
  },
  {
   "cell_type": "code",
   "execution_count": 33,
   "metadata": {
    "scrolled": false
   },
   "outputs": [
    {
     "name": "stdout",
     "output_type": "stream",
     "text": [
      "Total Months: 41\n",
      "Total Revenue: $18,971,412\n",
      "Average Revenue Change: $462,717\n",
      "35    Greatest Increase in Revenue: Sep-15 ($1,195,111)\n",
      "Name: Date, dtype: object\n",
      "22    Greatest Decrease in Revenue: Aug-14 ($-1,172,...\n",
      "Name: Date, dtype: object\n"
     ]
    }
   ],
   "source": [
    "months = bf[\"Date\"].nunique()\n",
    "print(\"Total Months: \"+'{:,}'.format(months))\n",
    "bd_trev = bf[\"Revenue\"].sum()\n",
    "print(\"Total Revenue: $\"+'{:,}'.format(bd_trev))\n",
    "avg_rev= int(bf[\"Revenue\"].mean())\n",
    "print(\"Average Revenue Change: $\"+'{:,}'.format(avg_rev))\n",
    "\n",
    "\n",
    "bd_maxrev = bf[\"Revenue\"].max()   \n",
    "max_rev=bf.loc[bf[\"Revenue\"] == bd_maxrev,:]\n",
    "\n",
    "print(\"Greatest Increase in Revenue: \"+max_rev[\"Date\"]+\" ($\"+'{:,}'.format(bd_maxrev)+\")\")\n",
    "\n",
    "bd_minrev = bf[\"Revenue\"].min()\n",
    "min_rev=bf.loc[bf[\"Revenue\"] == bd_minrev,:]\n",
    "print(\"Greatest Decrease in Revenue: \"+min_rev[\"Date\"]+\" ($\"+'{:,}'.format(bd_minrev)+\")\")"
   ]
  },
  {
   "cell_type": "code",
   "execution_count": null,
   "metadata": {},
   "outputs": [],
   "source": []
  },
  {
   "cell_type": "code",
   "execution_count": null,
   "metadata": {},
   "outputs": [],
   "source": []
  },
  {
   "cell_type": "code",
   "execution_count": null,
   "metadata": {},
   "outputs": [],
   "source": []
  }
 ],
 "metadata": {
  "kernelspec": {
   "display_name": "Python 3",
   "language": "python",
   "name": "python3"
  },
  "language_info": {
   "codemirror_mode": {
    "name": "ipython",
    "version": 3
   },
   "file_extension": ".py",
   "mimetype": "text/x-python",
   "name": "python",
   "nbconvert_exporter": "python",
   "pygments_lexer": "ipython3",
   "version": "3.6.4"
  }
 },
 "nbformat": 4,
 "nbformat_minor": 2
}
