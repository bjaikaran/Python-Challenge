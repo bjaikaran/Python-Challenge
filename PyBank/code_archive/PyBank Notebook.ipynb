{
 "cells": [
  {
   "cell_type": "code",
   "execution_count": 7,
   "metadata": {},
   "outputs": [],
   "source": [
    "import numpy as np\n",
    "import pandas as pd"
   ]
  },
  {
   "cell_type": "code",
   "execution_count": 8,
   "metadata": {},
   "outputs": [
    {
     "name": "stdout",
     "output_type": "stream",
     "text": [
      "Enter the full path of the first Budget Data file for your CSV: resources/budget_data_a.csv\n"
     ]
    },
    {
     "data": {
      "text/plain": [
       "'resources/budget_data_a.csv'"
      ]
     },
     "execution_count": 8,
     "metadata": {},
     "output_type": "execute_result"
    }
   ],
   "source": [
    "csv = input(\"Enter the full path of the first Budget Data file for your CSV: \")\n",
    "csv_path = str(csv)\n",
    "csv_path"
   ]
  },
  {
   "cell_type": "code",
   "execution_count": 17,
   "metadata": {},
   "outputs": [
    {
     "name": "stdout",
     "output_type": "stream",
     "text": [
      "Date       object\n",
      "Revenue     int64\n",
      "dtype: object\n"
     ]
    },
    {
     "data": {
      "text/html": [
       "<div>\n",
       "<style>\n",
       "    .dataframe thead tr:only-child th {\n",
       "        text-align: right;\n",
       "    }\n",
       "\n",
       "    .dataframe thead th {\n",
       "        text-align: left;\n",
       "    }\n",
       "\n",
       "    .dataframe tbody tr th {\n",
       "        vertical-align: top;\n",
       "    }\n",
       "</style>\n",
       "<table border=\"1\" class=\"dataframe\">\n",
       "  <thead>\n",
       "    <tr style=\"text-align: right;\">\n",
       "      <th></th>\n",
       "      <th>Date</th>\n",
       "      <th>Revenue</th>\n",
       "    </tr>\n",
       "  </thead>\n",
       "  <tbody>\n",
       "    <tr>\n",
       "      <th>0</th>\n",
       "      <td>Oct-12</td>\n",
       "      <td>1154293</td>\n",
       "    </tr>\n",
       "    <tr>\n",
       "      <th>1</th>\n",
       "      <td>Nov-12</td>\n",
       "      <td>885773</td>\n",
       "    </tr>\n",
       "    <tr>\n",
       "      <th>2</th>\n",
       "      <td>Dec-12</td>\n",
       "      <td>-448704</td>\n",
       "    </tr>\n",
       "    <tr>\n",
       "      <th>3</th>\n",
       "      <td>Jan-13</td>\n",
       "      <td>563679</td>\n",
       "    </tr>\n",
       "    <tr>\n",
       "      <th>4</th>\n",
       "      <td>Feb-13</td>\n",
       "      <td>555394</td>\n",
       "    </tr>\n",
       "  </tbody>\n",
       "</table>\n",
       "</div>"
      ],
      "text/plain": [
       "     Date  Revenue\n",
       "0  Oct-12  1154293\n",
       "1  Nov-12   885773\n",
       "2  Dec-12  -448704\n",
       "3  Jan-13   563679\n",
       "4  Feb-13   555394"
      ]
     },
     "execution_count": 17,
     "metadata": {},
     "output_type": "execute_result"
    }
   ],
   "source": [
    "bf = pd.read_csv(csv_path, encoding=\"utf-8\")\n",
    "print(bf.dtypes)\n",
    "\n",
    "bf[\"Date\"] = bf[\"Date\"].str.replace(\"20\",\"\")\n",
    "bf.head()"
   ]
  },
  {
   "cell_type": "code",
   "execution_count": 33,
   "metadata": {
    "scrolled": false
   },
   "outputs": [
    {
     "name": "stdout",
     "output_type": "stream",
     "text": [
      "Total Months: 41\n",
      "Total Revenue: $18,971,412\n",
      "Average Revenue Change: $462,717\n",
      "35    Greatest Increase in Revenue: Sep-15 ($1,195,111)\n",
      "Name: Date, dtype: object\n",
      "22    Greatest Decrease in Revenue: Aug-14 ($-1,172,...\n",
      "Name: Date, dtype: object\n"
     ]
    }
   ],
   "source": [
    "months = bf[\"Date\"].nunique()\n",
    "print(\"Total Months: \"+'{:,}'.format(months))\n",
    "bd_trev = bf[\"Revenue\"].sum()\n",
    "print(\"Total Revenue: $\"+'{:,}'.format(bd_trev))\n",
    "avg_rev= int(bf[\"Revenue\"].mean())\n",
    "print(\"Average Revenue Change: $\"+'{:,}'.format(avg_rev))\n",
    "\n",
    "\n",
    "bd_maxrev = bf[\"Revenue\"].max()   \n",
    "max_rev=bf.loc[bf[\"Revenue\"] == bd_maxrev,:]\n",
    "\n",
    "print(\"Greatest Increase in Revenue: \"+max_rev[\"Date\"]+\" ($\"+'{:,}'.format(bd_maxrev)+\")\")\n",
    "\n",
    "bd_minrev = bf[\"Revenue\"].min()\n",
    "min_rev=bf.loc[bf[\"Revenue\"] == bd_minrev,:]\n",
    "print(\"Greatest Decrease in Revenue: \"+min_rev[\"Date\"]+\" ($\"+'{:,}'.format(bd_minrev)+\")\")"
   ]
  },
  {
   "cell_type": "code",
   "execution_count": null,
   "metadata": {},
   "outputs": [],
   "source": []
  },
  {
   "cell_type": "code",
   "execution_count": null,
   "metadata": {},
   "outputs": [],
   "source": []
  },
  {
   "cell_type": "code",
   "execution_count": null,
   "metadata": {},
   "outputs": [],
   "source": []
  }
 ],
 "metadata": {
  "kernelspec": {
   "display_name": "Python 3",
   "language": "python",
   "name": "python3"
  },
  "language_info": {
   "codemirror_mode": {
    "name": "ipython",
    "version": 3
   },
   "file_extension": ".py",
   "mimetype": "text/x-python",
   "name": "python",
   "nbconvert_exporter": "python",
   "pygments_lexer": "ipython3",
   "version": "3.6.4"
  }
 },
 "nbformat": 4,
 "nbformat_minor": 2
}
